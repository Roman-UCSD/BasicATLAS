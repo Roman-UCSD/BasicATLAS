{
 "cells": [
  {
   "cell_type": "code",
   "execution_count": 2,
   "metadata": {
    "ExecuteTime": {
     "end_time": "2021-07-19T14:45:46.911157Z",
     "start_time": "2021-07-19T14:45:46.897135Z"
    }
   },
   "outputs": [],
   "source": [
    "import sys\n",
    "sys.path.append('../')\n",
    "import atlas\n",
    "\n",
    "import os\n",
    "import matplotlib.pyplot as plt\n",
    "import numpy as np\n",
    "\n",
    "%matplotlib inline"
   ]
  },
  {
   "cell_type": "markdown",
   "metadata": {},
   "source": [
    "# Solar Model with ATLAS\n",
    "\n",
    "This is the simplest use case for `BasicATLAS` that calculates the structure and emergent spectrum of a Sun-like star ($T_\\mathrm{eff}=5770\\ \\mathrm{K}$, $\\log(g)=4.44$, [standard solar abundances](http://atmos.ucsd.edu?p=solar)).\n",
    "\n",
    "We will use `~/ATLAS_sun_model` as our working directory. First, make sure the folder does not already exist:"
   ]
  },
  {
   "cell_type": "code",
   "execution_count": 3,
   "metadata": {
    "ExecuteTime": {
     "end_time": "2021-07-19T14:45:49.627683Z",
     "start_time": "2021-07-19T14:45:49.388123Z"
    },
    "collapsed": true
   },
   "outputs": [],
   "source": [
    "rm -rf ~/ATLAS_sun_model"
   ]
  },
  {
   "cell_type": "markdown",
   "metadata": {},
   "source": [
    "## Structure"
   ]
  },
  {
   "cell_type": "markdown",
   "metadata": {},
   "source": [
    "The structure must be calculated first using `ATLAS-9` which is dispatched with `atlas.atlas()`. In the absence of arguments, the routine will default to solar parameters listed above as well as a set of solar opacity distribution functions provided in `data/solar_ODF`."
   ]
  },
  {
   "cell_type": "code",
   "execution_count": 4,
   "metadata": {
    "ExecuteTime": {
     "end_time": "2021-07-19T14:47:17.239708Z",
     "start_time": "2021-07-19T14:45:51.758840Z"
    }
   },
   "outputs": [
    {
     "name": "stdout",
     "output_type": "stream",
     "text": [
      "Launcher created\n",
      "Starting automatic iterations...\n",
      "15 iterations completed: max[abs(err)] = 0.177 | max[abs(de)] = 47.288\n",
      "30 iterations completed: max[abs(err)] = 0.162 | max[abs(de)] = 2.574\n",
      "ATLAS-9 halted\n",
      "\n",
      "Final convergence: max[abs(err)] = 0.162 | max[abs(de)] = 2.574\n",
      "Saved the model in model.dat\n",
      "Finished running ATLAS-9 in 0:01:25.470508 s\n"
     ]
    }
   ],
   "source": [
    "run_dir = os.path.expanduser('~/ATLAS_sun_model')\n",
    "atlas.atlas(run_dir)"
   ]
  },
  {
   "cell_type": "markdown",
   "metadata": {},
   "source": [
    "We can now plot the calculated temperature/pressure profile with `MatPlotLib`:"
   ]
  },
  {
   "cell_type": "code",
   "execution_count": 5,
   "metadata": {
    "ExecuteTime": {
     "end_time": "2021-07-19T14:47:20.274099Z",
     "start_time": "2021-07-19T14:47:19.778490Z"
    }
   },
   "outputs": [
    {
     "data": {
      "image/png": "[encoded data removed]",
      "text/plain": [
       "<Figure size 432x288 with 1 Axes>"
      ]
     },
     "metadata": {},
     "output_type": "display_data"
    }
   ],
   "source": [
    "structure, units = atlas.read_structure(run_dir)\n",
    "\n",
    "plt.plot(structure['temperature'], structure['gas_pressure'])\n",
    "plt.xlabel('Temperature [K]')\n",
    "plt.ylabel('Pressure [Ba]')\n",
    "plt.yscale('log')"
   ]
  },
  {
   "cell_type": "markdown",
   "metadata": {},
   "source": [
    "## Spectral Synthesis\n",
    "\n",
    "The emergent spectrum corresponding to the structure calculated above is synthesized with a satellite utility called `SYNTHE`. `SYNTHE` is dispatched in the cell below between the wavelengths of $100$ nm and $3000$ nm.\n",
    "\n",
    "*The calculation may take a few hours*"
   ]
  },
  {
   "cell_type": "code",
   "execution_count": 6,
   "metadata": {
    "ExecuteTime": {
     "end_time": "2021-07-19T15:30:49.918367Z",
     "start_time": "2021-07-19T14:48:13.983985Z"
    }
   },
   "outputs": [
    {
     "name": "stdout",
     "output_type": "stream",
     "text": [
      "Adapted the ATLAS-9 model to SYNTHE in output_synthe.out\n",
      "Launcher created for wavelength range (100, 2850), batch 1. Expected number of points: 2009944 (buffer 2010001)\n",
      "SYNTHE halted\n",
      "Launcher created for wavelength range (2850, 3000), batch 2. Expected number of points: 30776 (buffer 2010001)\n",
      "SYNTHE halted\n",
      "Total data points: 2040720\n",
      "Saved the spectrum in spectrum.dat\n",
      "Finished running SYNTHE in 0:42:35.920707 s\n"
     ]
    }
   ],
   "source": [
    "atlas.synthe(run_dir, 100, 3000)"
   ]
  },
  {
   "cell_type": "markdown",
   "metadata": {},
   "source": [
    "Plot the synthetic spectrum with `MatPlotLib`:"
   ]
  },
  {
   "cell_type": "code",
   "execution_count": 9,
   "metadata": {
    "ExecuteTime": {
     "end_time": "2021-07-19T15:43:50.142179Z",
     "start_time": "2021-07-19T15:43:33.810979Z"
    }
   },
   "outputs": [
    {
     "data": {
      "text/plain": [
       "Text(0, 0.5, 'Intensity [erg s$^{-1}$ cm$^{-2}$ A$^{-1}$ strad$^{-1}$]')"
      ]
     },
     "execution_count": 9,
     "metadata": {},
     "output_type": "execute_result"
    },
    {
     "data": {
      "image/png": "[encoded data removed]",
      "text/plain": [
       "<Figure size 432x288 with 1 Axes>"
      ]
     },
     "metadata": {},
     "output_type": "display_data"
    }
   ],
   "source": [
    "spectrum = atlas.read_spectrum(run_dir, num_bins = 1000)    # Fold the spectrum into 1000 uniform bins\n",
    "\n",
    "plt.plot(spectrum['wl'], spectrum['flux'])\n",
    "plt.xlabel('Wavelength [A]')\n",
    "plt.ylabel('Intensity [erg s$^{-1}$ cm$^{-2}$ A$^{-1}$ strad$^{-1}$]')"
   ]
  },
  {
   "cell_type": "code",
   "execution_count": null,
   "metadata": {
    "collapsed": true
   },
   "outputs": [],
   "source": []
  }
 ],
 "metadata": {
  "kernelspec": {
   "display_name": "Python 3",
   "language": "python",
   "name": "python3"
  },
  "language_info": {
   "codemirror_mode": {
    "name": "ipython",
    "version": 3
   },
   "file_extension": ".py",
   "mimetype": "text/x-python",
   "name": "python",
   "nbconvert_exporter": "python",
   "pygments_lexer": "ipython3",
   "version": "3.6.3"
  }
 },
 "nbformat": 4,
 "nbformat_minor": 2
}
