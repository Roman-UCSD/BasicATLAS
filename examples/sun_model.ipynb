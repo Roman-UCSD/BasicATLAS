{
 "cells": [
  {
   "cell_type": "code",
   "execution_count": 2,
   "metadata": {
    "ExecuteTime": {
     "end_time": "2021-07-14T08:11:08.032168Z",
     "start_time": "2021-07-14T08:11:08.014567Z"
    }
   },
   "outputs": [],
   "source": [
    "import sys\n",
    "sys.path.append('../')\n",
    "import atlas\n",
    "\n",
    "import os\n",
    "import matplotlib.pyplot as plt\n",
    "import numpy as np\n",
    "\n",
    "%matplotlib inline"
   ]
  },
  {
   "cell_type": "markdown",
   "metadata": {},
   "source": [
    "# Solar Model with ATLAS\n",
    "\n",
    "This is the simplest use case for `BasicATLAS` that calculates the structure and emergent spectrum of a Sun-like star ($T_\\mathrm{eff}=5770\\ \\mathrm{K}$, $\\log(g)=4.44$, [standard solar abundances](http://atmos.ucsd.edu?p=solar)).\n",
    "\n",
    "We will use `~/ATLAS_sun_model` as our working directory. First, make sure the folder does not already exist:"
   ]
  },
  {
   "cell_type": "code",
   "execution_count": 3,
   "metadata": {
    "ExecuteTime": {
     "end_time": "2021-07-14T08:11:10.112726Z",
     "start_time": "2021-07-14T08:11:09.939831Z"
    },
    "collapsed": true
   },
   "outputs": [],
   "source": [
    "rm -rf ~/ATLAS_sun_model"
   ]
  },
  {
   "cell_type": "markdown",
   "metadata": {},
   "source": [
    "## Structure"
   ]
  },
  {
   "cell_type": "markdown",
   "metadata": {},
   "source": [
    "The structure must be calculated first using `ATLAS-9` which is dispatched with `atlas.atlas()`. In the absence of arguments, the routine will default to solar parameters listed above as well as a set of solar opacity distribution functions provided in `data/solar_ODF`."
   ]
  },
  {
   "cell_type": "code",
   "execution_count": 4,
   "metadata": {
    "ExecuteTime": {
     "end_time": "2021-07-14T08:12:54.000593Z",
     "start_time": "2021-07-14T08:11:11.799035Z"
    }
   },
   "outputs": [
    {
     "name": "stdout",
     "output_type": "stream",
     "text": [
      "Launcher created\n",
      "Starting automatic iterations...\n",
      "15 iterations completed: max[abs(err)] = 0.177 | max[abs(de)] = 47.288\n",
      "30 iterations completed: max[abs(err)] = 0.17 | max[abs(de)] = 2.59\n",
      "ATLAS-9 halted\n",
      "\n",
      "Final convergence: max[abs(err)] = 0.17 | max[abs(de)] = 2.59\n",
      "Saved the model in model.dat\n",
      "Finished running ATLAS-9 in 0:01:42.090270 s\n"
     ]
    }
   ],
   "source": [
    "run_dir = os.path.expanduser('~/ATLAS_sun_model')\n",
    "atlas.atlas(run_dir)"
   ]
  },
  {
   "cell_type": "markdown",
   "metadata": {},
   "source": [
    "We can now plot the calculated temperature/pressure profile with `MatPlotLib`:"
   ]
  },
  {
   "cell_type": "code",
   "execution_count": 5,
   "metadata": {
    "ExecuteTime": {
     "end_time": "2021-07-14T08:13:00.787994Z",
     "start_time": "2021-07-14T08:13:00.130221Z"
    }
   },
   "outputs": [
    {
     "data": {
      "image/png": "[encoded data removed]",
      "text/plain": [
       "<Figure size 432x288 with 1 Axes>"
      ]
     },
     "metadata": {},
     "output_type": "display_data"
    }
   ],
   "source": [
    "temp, press = np.loadtxt(run_dir + '/model.dat', delimiter = ',', unpack = True, usecols = [1, 2])\n",
    "\n",
    "plt.plot(temp, press)\n",
    "plt.xlabel('Temperature [K]')\n",
    "plt.ylabel('Pressure [bar]')\n",
    "plt.yscale('log')"
   ]
  },
  {
   "cell_type": "markdown",
   "metadata": {},
   "source": [
    "## Spectral Synthesis\n",
    "\n",
    "The emergent spectrum corresponding to the structure calculated above is synthesized with a satellite utility called `SYNTHE`. `SYNTHE` is dispatched in the cell below between the wavelengths of $100$ Å and $3000$ Å.\n",
    "\n",
    "*The calculation may take a few hours*"
   ]
  },
  {
   "cell_type": "code",
   "execution_count": 6,
   "metadata": {
    "ExecuteTime": {
     "end_time": "2021-07-14T08:43:35.678643Z",
     "start_time": "2021-07-14T08:13:05.468996Z"
    }
   },
   "outputs": [
    {
     "name": "stdout",
     "output_type": "stream",
     "text": [
      "Adapted the ATLAS-9 model to SYNTHE in output_synthe.out\n",
      "Launcher created\n",
      "SYNTHE halted\n",
      "Total data points: 1538970\n",
      "Saved the spectrum in spectrum.dat\n",
      "Finished running SYNTHE in 0:30:30.195087 s\n"
     ]
    }
   ],
   "source": [
    "atlas.synthe(run_dir, 200, 2600)"
   ]
  },
  {
   "cell_type": "markdown",
   "metadata": {},
   "source": [
    "Plot the synthetic spectrum with `MatPlotLib`:"
   ]
  },
  {
   "cell_type": "code",
   "execution_count": 7,
   "metadata": {
    "ExecuteTime": {
     "end_time": "2021-07-14T08:46:36.519877Z",
     "start_time": "2021-07-14T08:46:27.173254Z"
    }
   },
   "outputs": [
    {
     "data": {
      "text/plain": [
       "Text(0, 0.5, 'Intensity [erg s$^{-1}$ cm$^{-2}$ A$^{-1}$ strad$^{-1}$]')"
      ]
     },
     "execution_count": 7,
     "metadata": {},
     "output_type": "execute_result"
    },
    {
     "data": {
      "image/png": "[encoded data removed]",
      "text/plain": [
       "<Figure size 432x288 with 1 Axes>"
      ]
     },
     "metadata": {},
     "output_type": "display_data"
    }
   ],
   "source": [
    "wl, flux = np.loadtxt(run_dir + '/spectrum.dat', delimiter = ',', unpack = True, usecols = [0, 1])\n",
    "\n",
    "# Bin the spectrum for visualization purposes (defaults to 1000 bins)\n",
    "wl, flux = atlas.bin_spec(wl, flux)\n",
    "\n",
    "plt.plot(wl, flux, '-')\n",
    "plt.xlabel('Wavelength [A]')\n",
    "plt.ylabel('Intensity [erg s$^{-1}$ cm$^{-2}$ A$^{-1}$ strad$^{-1}$]')"
   ]
  },
  {
   "cell_type": "code",
   "execution_count": null,
   "metadata": {
    "collapsed": true
   },
   "outputs": [],
   "source": []
  }
 ],
 "metadata": {
  "kernelspec": {
   "display_name": "Python 3",
   "language": "python",
   "name": "python3"
  },
  "language_info": {
   "codemirror_mode": {
    "name": "ipython",
    "version": 3
   },
   "file_extension": ".py",
   "mimetype": "text/x-python",
   "name": "python",
   "nbconvert_exporter": "python",
   "pygments_lexer": "ipython3",
   "version": "3.6.3"
  }
 },
 "nbformat": 4,
 "nbformat_minor": 2
}
