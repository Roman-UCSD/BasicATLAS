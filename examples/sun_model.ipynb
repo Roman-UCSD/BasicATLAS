{
 "cells": [
  {
   "cell_type": "code",
   "execution_count": 3,
   "metadata": {
    "ExecuteTime": {
     "end_time": "2021-07-13T00:35:00.029487Z",
     "start_time": "2021-07-13T00:35:00.007572Z"
    }
   },
   "outputs": [],
   "source": [
    "import sys\n",
    "sys.path.append('../')\n",
    "import atlas\n",
    "\n",
    "import os\n",
    "import matplotlib.pyplot as plt\n",
    "import numpy as np\n",
    "\n",
    "%matplotlib inline"
   ]
  },
  {
   "cell_type": "markdown",
   "metadata": {},
   "source": [
    "# Solar demo\n",
    "\n",
    "The simplest possible `ATLAS-9` run to calculate a solar model. We will store the result in `~/ATLAS_sun_model`. Make sure the folder does not already exist:"
   ]
  },
  {
   "cell_type": "code",
   "execution_count": 4,
   "metadata": {
    "ExecuteTime": {
     "end_time": "2021-07-13T00:35:04.269793Z",
     "start_time": "2021-07-13T00:35:04.134178Z"
    },
    "collapsed": true
   },
   "outputs": [],
   "source": [
    "rm -rf ~/ATLAS_sun_model"
   ]
  },
  {
   "cell_type": "markdown",
   "metadata": {},
   "source": [
    "`atlas.atlas()` will default to solar parameters in the absence of other arguments. It will use the precomputed solar opacity distribution provided with `BasicATLAS` and a sun-like initial model."
   ]
  },
  {
   "cell_type": "code",
   "execution_count": 5,
   "metadata": {
    "ExecuteTime": {
     "end_time": "2021-07-13T00:36:45.018472Z",
     "start_time": "2021-07-13T00:35:07.082019Z"
    }
   },
   "outputs": [
    {
     "name": "stdout",
     "output_type": "stream",
     "text": [
      "Launcher created\n",
      "Starting automatic iterations...\n",
      "15 iterations completed: max[abs(err)] = 0.177 | max[abs(de)] = 47.288\n",
      "30 iterations completed: max[abs(err)] = 0.17 | max[abs(de)] = 2.59\n",
      "ATLAS-9 halted\n",
      "\n",
      "Final convergence: max[abs(err)] = 0.17 | max[abs(de)] = 2.59\n",
      "Saved the model in model.dat\n",
      "Finished running ATLAS-9 in 0:01:37.827752 s\n"
     ]
    }
   ],
   "source": [
    "run_dir = os.path.expanduser('~/ATLAS_sun_model')\n",
    "atlas.atlas(run_dir)"
   ]
  },
  {
   "cell_type": "markdown",
   "metadata": {},
   "source": [
    "We can now plot the calculate temperature/pressure profile with `MatPlotLib`:"
   ]
  },
  {
   "cell_type": "code",
   "execution_count": 6,
   "metadata": {
    "ExecuteTime": {
     "end_time": "2021-07-13T00:36:48.864347Z",
     "start_time": "2021-07-13T00:36:48.353317Z"
    }
   },
   "outputs": [
    {
     "data": {
      "image/png": "[encoded data removed]",
      "text/plain": [
       "<Figure size 432x288 with 1 Axes>"
      ]
     },
     "metadata": {},
     "output_type": "display_data"
    }
   ],
   "source": [
    "temp, press = np.loadtxt(run_dir + '/model.dat', delimiter = ',', unpack = True, usecols = [1, 2])\n",
    "\n",
    "plt.plot(temp, press)\n",
    "plt.xlabel('Temperature [K]')\n",
    "plt.ylabel('Pressure [bar]')\n",
    "plt.yscale('log')"
   ]
  },
  {
   "cell_type": "code",
   "execution_count": null,
   "metadata": {
    "collapsed": true
   },
   "outputs": [],
   "source": []
  }
 ],
 "metadata": {
  "kernelspec": {
   "display_name": "Python 3",
   "language": "python",
   "name": "python3"
  },
  "language_info": {
   "codemirror_mode": {
    "name": "ipython",
    "version": 3
   },
   "file_extension": ".py",
   "mimetype": "text/x-python",
   "name": "python",
   "nbconvert_exporter": "python",
   "pygments_lexer": "ipython3",
   "version": "3.6.3"
  }
 },
 "nbformat": 4,
 "nbformat_minor": 2
}
