{
 "cells": [
  {
   "cell_type": "code",
   "execution_count": 2,
   "metadata": {
    "ExecuteTime": {
     "end_time": "2021-07-28T08:30:04.579786Z",
     "start_time": "2021-07-28T08:30:04.564929Z"
    }
   },
   "outputs": [],
   "source": [
    "import sys\n",
    "sys.path.append('../')\n",
    "import atlas\n",
    "\n",
    "import os\n",
    "import matplotlib.pyplot as plt\n",
    "import numpy as np\n",
    "\n",
    "%matplotlib inline"
   ]
  },
  {
   "cell_type": "markdown",
   "metadata": {},
   "source": [
    "# Restart models\n",
    "\n",
    "At the basic level, calculating a model atmosphere comes down to finding a temperature profile (e.g. run of temperature throughout the atmosphere as a function of optical depth) that satisfies *energy equilibrium*, *hydrostatic equilibrium* and the *equation of state*. Seeking the profile that simultaneously meets all three conditions directly is computationally prohibitive in nearly all cases due to the non-linearity of the system and computational cost associated with opacity calculations.\n",
    "\n",
    "Instead, a trial temperature profile is guessed to start the calculation. At first, the condition of energy equilibrium is entirely disregarded while the other two conditions are solved simultaneously for other parameters of the atmosphere such as opacity, pressure, density and the radiation field. Once the entire atmosphere is solved, energy equilibrium is reconsidered to check which parts of the trial temperature profile are wrong and by how much. Those flux errors are then fed into a *temperature correction scheme* that suggests how the temperature profile may be adjusted in order to suppress departures from the energy equilibrium. Of course, this adjustment will likely break the other two conditions requiring the entire calculation to be repeated but with the corrected temperature profile.\n",
    "\n",
    "It is then hoped that on every subsequent iteration the refined temperature profile is more accurate than before. Iterations are continued either until all three conditions are upheld within satisfying precision or until no meaningful progress can be made. The latter may be due to one or more of the following reasons:\n",
    "\n",
    "* A star with desired parameters is physically impossible in which case no temperature profile that satisfies all three conditions will exist.\n",
    "* One or more of the conditions are genuinely violated in the atmosphere of the star (e.g. the atmosphere may be expanding in which case the condition of hydrostatic equilibrium will not hold).\n",
    "* A star with desired parameters relies on physics that is not included in the model in which case, again, no temperature profile will work. This could, for example, be due to incomplete opacity treatment.\n",
    "* A better temperature profile does exist but the adopted temperature correction scheme is unable to find it.\n",
    "\n",
    "This notebook explores the last of those four potential problems. Due to the non-linear nature of structure equations, most temperature correction schemes perform better when the necessary changes in the temperature profile are small, allowing them to be approximated as nearly linear. As such, the initial trial temperature profile must be chosen as close to the expected final profile as possible. Failure to do so may increase the number of required iterations (since temperature corrections are applied in small steps) or render the temperature correction routine unable to operate entirely.\n",
    "\n",
    "Below we review a few choices of the trial temperature profile available to the user and demonstrates their effect on the final result."
   ]
  },
  {
   "cell_type": "markdown",
   "metadata": {},
   "source": [
    "### Grey atmosphere\n",
    "\n",
    "A grey atmosphere is a highly unrealistic model that assumes equal opacity at all wavelengths. In this simplified scenario, the exact temperature profile may be calculated analytically without resorting to iterative routines. In fact, it is given by the following expression:\n",
    "\n",
    "$$T=T_\\mathrm{eff}\\left(\\frac{3}{4}\\left[\\tau + \\frac{2}{3} \\right] \\right)^{1/4}$$\n",
    "\n",
    "where $\\tau$ is the (wavelength-independent) optical depth and $T_\\mathrm{eff}$ is the effective temperature. In the absence of other information, one may attempt to use the grey profile corresponding to the desired effective temperature as the trial temperature structure.\n",
    "\n",
    "We will now calculate a solar atmosphere model in `~/ATLAS_solar_grey`. Make sure the directory does not already exist:"
   ]
  },
  {
   "cell_type": "code",
   "execution_count": 3,
   "metadata": {
    "ExecuteTime": {
     "end_time": "2021-07-28T09:07:20.263386Z",
     "start_time": "2021-07-28T09:07:20.132463Z"
    },
    "collapsed": true
   },
   "outputs": [],
   "source": [
    "rm -rf ~/ATLAS_solar_grey"
   ]
  },
  {
   "cell_type": "markdown",
   "metadata": {},
   "source": [
    "To use grey atmosphere as the initial temperature guess, pass an optional argument to `atlas.atlas()` with `restart='grey'`:"
   ]
  },
  {
   "cell_type": "code",
   "execution_count": 4,
   "metadata": {
    "ExecuteTime": {
     "end_time": "2021-07-28T09:10:05.395357Z",
     "start_time": "2021-07-28T09:07:53.828587Z"
    }
   },
   "outputs": [
    {
     "name": "stdout",
     "output_type": "stream",
     "text": [
      "Launcher created\n",
      "Starting automatic iterations...\n",
      "15 iterations completed: max[abs(err)] = 31.732 | max[abs(de)] = 3916.526\n",
      "30 iterations completed: max[abs(err)] = 2.168 | max[abs(de)] = 163.902\n",
      "45 iterations completed: max[abs(err)] = 0.634 | max[abs(de)] = 5.315\n",
      "ATLAS-9 halted\n",
      "ATLAS requested/received validation for /home/roman/ATLAS_solar_grey successful\n",
      "\n",
      "Final convergence: max[abs(err)] = 0.634 | max[abs(de)] = 5.315\n",
      "Saved the model in model.dat\n",
      "Finished running ATLAS-9 in 0:02:11.556376 s\n"
     ]
    }
   ],
   "source": [
    "run_dir = os.path.expanduser('~/ATLAS_solar_grey')\n",
    "\n",
    "# Solar parameters are used in the absence of other arguments\n",
    "atlas.atlas(run_dir, restart = 'grey')"
   ]
  },
  {
   "cell_type": "markdown",
   "metadata": {},
   "source": [
    "On my setup, the atmosphere successfully converges taking $45$ iterations, which is an unusually large number for a relatively basic model. Not that in `BasicATLAS`, the adopted condition for convergence is maximum flux error under $1\\%$ and maximum flux derivative error under $10\\%$. We will now attempt to accelerate the process by choosing a better initial temperature profile than the grey structure used above.\n",
    "\n",
    "## Restarts\n",
    "\n",
    "It is typically more efficient to extract the initial temperature guess from a previously calculated atmosphere with parameters similar to those of the target atmosphere. The model atmosphere providing the trial temperature profile is sometimes referred to as the **restart** model. `BasicATLAS` comes with a few restarts available in the `restarts/` directory.\n",
    "\n",
    "In particular, the restart model `restarts/m0t6000g4.0.dat` was calculated for solar metallicity, $\\log(g)=4.0$ and $T_\\mathrm{eff}=6000\\ \\mathrm{K}$ which is sufficiently close to solar parameters for our purposes. We shall use it for our next calculation in a separate directory:"
   ]
  },
  {
   "cell_type": "code",
   "execution_count": 5,
   "metadata": {
    "ExecuteTime": {
     "end_time": "2021-07-28T09:13:26.609649Z",
     "start_time": "2021-07-28T09:13:26.445220Z"
    },
    "collapsed": true
   },
   "outputs": [],
   "source": [
    "rm -rf ~/ATLAS_solar_restart"
   ]
  },
  {
   "cell_type": "code",
   "execution_count": 6,
   "metadata": {
    "ExecuteTime": {
     "end_time": "2021-07-28T09:15:00.332758Z",
     "start_time": "2021-07-28T09:13:35.289193Z"
    }
   },
   "outputs": [
    {
     "name": "stdout",
     "output_type": "stream",
     "text": [
      "Launcher created\n",
      "Starting automatic iterations...\n",
      "15 iterations completed: max[abs(err)] = 0.427 | max[abs(de)] = 21.022\n",
      "30 iterations completed: max[abs(err)] = 0.286 | max[abs(de)] = 3.545\n",
      "ATLAS-9 halted\n",
      "ATLAS requested/received validation for /home/roman/ATLAS_solar_restart successful\n",
      "\n",
      "Final convergence: max[abs(err)] = 0.286 | max[abs(de)] = 3.545\n",
      "Saved the model in model.dat\n",
      "Finished running ATLAS-9 in 0:01:25.032226 s\n"
     ]
    }
   ],
   "source": [
    "run_dir = os.path.expanduser('~/ATLAS_solar_restart')\n",
    "\n",
    "# python_path is the home directory of BasicATLAS\n",
    "atlas.atlas(run_dir, restart = atlas.python_path + '/restarts/m0t6000g4.0.dat')"
   ]
  },
  {
   "cell_type": "markdown",
   "metadata": {},
   "source": [
    "On my setup, the atmosphere converged much faster than before and at far lower flux errors. We can double check that both approaches converge on the same final temperature profile by plotting both on the same set of axes:"
   ]
  },
  {
   "cell_type": "code",
   "execution_count": 8,
   "metadata": {
    "ExecuteTime": {
     "end_time": "2021-07-28T09:18:17.832272Z",
     "start_time": "2021-07-28T09:18:17.660372Z"
    }
   },
   "outputs": [
    {
     "data": {
      "text/plain": [
       "<matplotlib.legend.Legend at 0x7f3f3fd19cf8>"
      ]
     },
     "execution_count": 8,
     "metadata": {},
     "output_type": "execute_result"
    },
    {
     "data": {
      "image/png": "[encoded data removed]",
      "text/plain": [
       "<Figure size 432x288 with 1 Axes>"
      ]
     },
     "metadata": {},
     "output_type": "display_data"
    }
   ],
   "source": [
    "# Load both structures\n",
    "structure_grey, units_grey       = atlas.read_structure(os.path.expanduser('~/ATLAS_solar_grey'))\n",
    "structure_restart, units_restart = atlas.read_structure(os.path.expanduser('~/ATLAS_solar_restart'))\n",
    "\n",
    "# Plot both profiles (temperature vs optical depth)\n",
    "plt.plot(structure_grey['rosseland_optical_depth'], structure_grey['temperature'], 'y-', label = 'Grey')\n",
    "plt.plot(structure_restart['rosseland_optical_depth'], structure_restart['temperature'], 'k--', label = 'Restart')\n",
    "\n",
    "# Legend and labels\n",
    "plt.xlabel('Optical depth')\n",
    "plt.ylabel('Temperature [{}]'.format(units_grey['temperature']))\n",
    "plt.legend()"
   ]
  },
  {
   "cell_type": "markdown",
   "metadata": {},
   "source": [
    "For any other model, one must choose a restart model that has properties as close as possible to the target.\n",
    "\n",
    "All restarts available in `BasicATLAS` can be viewed with `atlas.load_restarts()`. The output of this function is a Python dictionary with keys corresponding to file names, effective temperatures, surface gravities and metallicities of all models in `restarts/`:"
   ]
  },
  {
   "cell_type": "code",
   "execution_count": 9,
   "metadata": {
    "ExecuteTime": {
     "end_time": "2021-07-28T09:19:42.061635Z",
     "start_time": "2021-07-28T09:19:41.898138Z"
    }
   },
   "outputs": [
    {
     "data": {
      "text/plain": [
       "Text(0.5, 0, 'Effective temperature [K]')"
      ]
     },
     "execution_count": 9,
     "metadata": {},
     "output_type": "execute_result"
    },
    {
     "data": {
      "image/png": "[encoded data removed]",
      "text/plain": [
       "<Figure size 432x288 with 1 Axes>"
      ]
     },
     "metadata": {},
     "output_type": "display_data"
    }
   ],
   "source": [
    "all_restarts = atlas.load_restarts()\n",
    "\n",
    "# Plot all available effective temperatures and gravities:\n",
    "plt.plot(all_restarts['teff'], all_restarts['logg'], 'ro')\n",
    "plt.ylabel('Surface gravity log(g)')\n",
    "plt.xlabel('Effective temperature [K]')"
   ]
  },
  {
   "cell_type": "markdown",
   "metadata": {},
   "source": [
    "The grid spans effective temperatures between $4000$ and $10000$ $\\mathrm{K}$, surface gravities ($\\log(g)$) between $2.0$ and $6.0$ and metallicities $[\\mathrm{M}/\\mathrm{H}]$ between $-2.0$ and $+1.0$.\n",
    "\n",
    "In general, it is not necessary to look for the most appropriate restart by hand as `BasicATLAS` can do so automatically. In order to delegate the choice of the restart model to `BasicATLAS`, set the `restart` argument to `auto` (which is also the default value). In the cell below we recalculate the solar model using the `auto` option instead of choosing the restart ourselves."
   ]
  },
  {
   "cell_type": "code",
   "execution_count": 10,
   "metadata": {
    "ExecuteTime": {
     "end_time": "2021-07-28T09:22:45.319089Z",
     "start_time": "2021-07-28T09:22:45.194922Z"
    },
    "collapsed": true
   },
   "outputs": [],
   "source": [
    "rm -rf ~/ATLAS_solar_restart"
   ]
  },
  {
   "cell_type": "code",
   "execution_count": 11,
   "metadata": {
    "ExecuteTime": {
     "end_time": "2021-07-28T09:24:12.725072Z",
     "start_time": "2021-07-28T09:22:46.952939Z"
    }
   },
   "outputs": [
    {
     "name": "stdout",
     "output_type": "stream",
     "text": [
      "Automatically chosen restart: /home/roman/CoolStar/BasicATLAS/restarts/m0t6000g4.0.dat\n",
      "Launcher created\n",
      "Starting automatic iterations...\n",
      "15 iterations completed: max[abs(err)] = 0.427 | max[abs(de)] = 21.022\n",
      "30 iterations completed: max[abs(err)] = 0.286 | max[abs(de)] = 3.545\n",
      "ATLAS-9 halted\n",
      "ATLAS requested/received validation for /home/roman/ATLAS_solar_restart successful\n",
      "\n",
      "Final convergence: max[abs(err)] = 0.286 | max[abs(de)] = 3.545\n",
      "Saved the model in model.dat\n",
      "Finished running ATLAS-9 in 0:01:25.764724 s\n"
     ]
    }
   ],
   "source": [
    "atlas.atlas(run_dir, restart = 'auto')"
   ]
  },
  {
   "cell_type": "markdown",
   "metadata": {},
   "source": [
    "As stated in the output, `BasicATLAS` chose the same restart we used in the previous example and, hopefully, arrived at the same flux error and the same final result."
   ]
  },
  {
   "cell_type": "markdown",
   "metadata": {},
   "source": [
    "## Custom restarts"
   ]
  },
  {
   "cell_type": "markdown",
   "metadata": {},
   "source": [
    "The choice of restart models needs not be confined to the library of restarts provided in `BasicATLAS`. Any previously calculated `ATLAS` model can be used as a restart file for another model. To demonstrate this, the cell below calculates another solar model using our previous effort, `~/ATLAS_solar_restart` as the restart file. As one would expect, this ensures nearly instant convergence:"
   ]
  },
  {
   "cell_type": "code",
   "execution_count": 13,
   "metadata": {
    "ExecuteTime": {
     "end_time": "2021-07-28T09:24:57.900211Z",
     "start_time": "2021-07-28T09:24:57.770471Z"
    }
   },
   "outputs": [],
   "source": [
    "rm -rf ~/ATLAS_solar_restart_2"
   ]
  },
  {
   "cell_type": "code",
   "execution_count": 14,
   "metadata": {
    "ExecuteTime": {
     "end_time": "2021-07-28T09:25:40.659234Z",
     "start_time": "2021-07-28T09:25:01.290029Z"
    }
   },
   "outputs": [
    {
     "name": "stdout",
     "output_type": "stream",
     "text": [
      "Launcher created\n",
      "Starting automatic iterations...\n",
      "15 iterations completed: max[abs(err)] = 0.232 | max[abs(de)] = 5.265\n",
      "ATLAS-9 halted\n",
      "ATLAS requested/received validation for /home/roman/ATLAS_solar_restart_2 successful\n",
      "\n",
      "Final convergence: max[abs(err)] = 0.232 | max[abs(de)] = 5.265\n",
      "Saved the model in model.dat\n",
      "Finished running ATLAS-9 in 0:00:39.358812 s\n"
     ]
    }
   ],
   "source": [
    "restart_dir = os.path.expanduser('~/ATLAS_solar_restart')\n",
    "run_dir = os.path.expanduser('~/ATLAS_solar_restart_2')\n",
    "\n",
    "atlas.atlas(run_dir, restart = restart_dir)"
   ]
  },
  {
   "cell_type": "markdown",
   "metadata": {},
   "source": [
    "The user may also add custom restart models to the `BasicATLAS` library in which case they will be included in the process of automatic selection with `restart=auto`. The list of paths where `BasicATLAS` is looking for suitable restarts is given in `atlas.restart_paths`:"
   ]
  },
  {
   "cell_type": "code",
   "execution_count": 15,
   "metadata": {
    "ExecuteTime": {
     "end_time": "2021-07-28T09:25:44.712403Z",
     "start_time": "2021-07-28T09:25:44.707909Z"
    }
   },
   "outputs": [
    {
     "data": {
      "text/plain": [
       "['/home/roman/CoolStar/BasicATLAS/restarts']"
      ]
     },
     "execution_count": 15,
     "metadata": {},
     "output_type": "execute_result"
    }
   ],
   "source": [
    "atlas.restart_paths"
   ]
  },
  {
   "cell_type": "markdown",
   "metadata": {},
   "source": [
    "At the moment, the list only includes `restarts/`. By adding the home directory to this list, all previously calculated models will be added to the library as well:"
   ]
  },
  {
   "cell_type": "code",
   "execution_count": 17,
   "metadata": {
    "ExecuteTime": {
     "end_time": "2021-07-28T09:27:04.554100Z",
     "start_time": "2021-07-28T09:27:04.272053Z"
    },
    "scrolled": false
   },
   "outputs": [
    {
     "data": {
      "text/plain": [
       "<matplotlib.lines.Line2D at 0x7f3f3fa0e2b0>"
      ]
     },
     "execution_count": 17,
     "metadata": {},
     "output_type": "execute_result"
    },
    {
     "data": {
      "image/png": "[encoded data removed]",
      "text/plain": [
       "<Figure size 432x288 with 1 Axes>"
      ]
     },
     "metadata": {},
     "output_type": "display_data"
    }
   ],
   "source": [
    "# Add home directory to the restarts library\n",
    "atlas.restart_paths += [os.path.expanduser('~/')]\n",
    "\n",
    "# Query all available restarts again\n",
    "all_restarts = atlas.load_restarts()\n",
    "\n",
    "# Make the same plot of available restarts: notice the added point at solar parameters\n",
    "plt.plot(all_restarts['teff'], all_restarts['logg'], 'ro')\n",
    "plt.ylabel('Surface gravity log(g)')\n",
    "plt.xlabel('Effective temperature [K]')\n",
    "\n",
    "# Highlight the solar parameters with horizontal and vertical lines:\n",
    "plt.axvline(atlas.Settings().teff)\n",
    "plt.axhline(atlas.Settings().logg)"
   ]
  },
  {
   "cell_type": "markdown",
   "metadata": {},
   "source": [
    "Now that our solar model is present in the `BasicATLAS` restart library, it is available to be chosen with `restart = 'auto'`. Should we try to calculate a solar model with automatic restart selection once again, `BasicATLAS` will likely choose our solar restart due to it being closest (in fact, identical) to the desired parameters:"
   ]
  },
  {
   "cell_type": "code",
   "execution_count": 18,
   "metadata": {
    "ExecuteTime": {
     "end_time": "2021-07-28T09:29:02.146523Z",
     "start_time": "2021-07-28T09:29:02.016776Z"
    },
    "collapsed": true
   },
   "outputs": [],
   "source": [
    "rm -rf ~/ATLAS_solar_restart"
   ]
  },
  {
   "cell_type": "code",
   "execution_count": 19,
   "metadata": {
    "ExecuteTime": {
     "end_time": "2021-07-28T09:29:43.259335Z",
     "start_time": "2021-07-28T09:29:04.923954Z"
    }
   },
   "outputs": [
    {
     "name": "stdout",
     "output_type": "stream",
     "text": [
      "Automatically chosen restart: /home/roman//ATLAS_solar_grey\n",
      "Launcher created\n",
      "Starting automatic iterations...\n",
      "15 iterations completed: max[abs(err)] = 0.303 | max[abs(de)] = 6.264\n",
      "ATLAS-9 halted\n",
      "ATLAS requested/received validation for /home/roman/ATLAS_solar_restart successful\n",
      "\n",
      "Final convergence: max[abs(err)] = 0.303 | max[abs(de)] = 6.264\n",
      "Saved the model in model.dat\n",
      "Finished running ATLAS-9 in 0:00:38.325866 s\n"
     ]
    }
   ],
   "source": [
    "run_dir = os.path.expanduser('~/ATLAS_solar_restart')\n",
    "atlas.atlas(run_dir, restart = 'auto')"
   ]
  },
  {
   "cell_type": "markdown",
   "metadata": {},
   "source": [
    "### Uncharted territory"
   ]
  },
  {
   "cell_type": "markdown",
   "metadata": {},
   "source": [
    "The default set of restarts only covers the most common area of the parameter space. Furthermore, all models in the library are restricted to metallicity-scaled solar abundances. When going beyond the range of available restarts, we may begin struggling to converge due to the nearest available restart being too dissimilar to the model of interest.\n",
    "\n",
    "This can be clearly illustrated by considering high-gravity models with $T_\\mathrm{eff}$ below the `BasicATLAS` restart library limit of $4000\\ \\mathrm{K}$. Calculations at effective temperatures this low are particularly involved due to molecular effects and, sometimes, even the difference of $200\\ \\mathrm{K}$ between the target and restart effective temperatures will render the temperature correction scheme of `ATLAS` unable to do its job.\n",
    "\n",
    "The cells below illustrate this by attempting a calculation at $T_\\mathrm{eff}=3800\\ \\mathrm{K}$ using restart auto selection:"
   ]
  },
  {
   "cell_type": "code",
   "execution_count": 20,
   "metadata": {
    "ExecuteTime": {
     "end_time": "2021-07-28T09:34:03.782435Z",
     "start_time": "2021-07-28T09:34:03.654617Z"
    },
    "collapsed": true
   },
   "outputs": [],
   "source": [
    "rm -rf ~/ATLAS_cool"
   ]
  },
  {
   "cell_type": "code",
   "execution_count": 21,
   "metadata": {
    "ExecuteTime": {
     "end_time": "2021-07-28T09:51:54.490105Z",
     "start_time": "2021-07-28T09:34:25.000340Z"
    }
   },
   "outputs": [
    {
     "name": "stdout",
     "output_type": "stream",
     "text": [
      "Automatically chosen restart: /home/roman/CoolStar/BasicATLAS/restarts/m0t4000g6.0.dat\n",
      "Launcher created\n",
      "Starting automatic iterations...\n",
      "15 iterations completed: max[abs(err)] = 34.213 | max[abs(de)] = 28.838\n",
      "30 iterations completed: max[abs(err)] = 50.153 | max[abs(de)] = 26.246\n",
      "45 iterations completed: max[abs(err)] = 49.539 | max[abs(de)] = 21.929\n",
      "60 iterations completed: max[abs(err)] = 52.491 | max[abs(de)] = 24.84\n",
      "75 iterations completed: max[abs(err)] = 99.995 | max[abs(de)] = 14.147\n",
      "90 iterations completed: max[abs(err)] = 85.923 | max[abs(de)] = 11.598\n",
      "105 iterations completed: max[abs(err)] = 55146.997 | max[abs(de)] = 1156.398\n",
      "120 iterations completed: max[abs(err)] = 376405.746 | max[abs(de)] = 8073.029\n",
      "135 iterations completed: max[abs(err)] = 197514.412 | max[abs(de)] = 3947.152\n",
      "150 iterations completed: max[abs(err)] = 124836.502 | max[abs(de)] = 2241.12\n",
      "165 iterations completed: max[abs(err)] = 53893.321 | max[abs(de)] = 9763.273\n",
      "180 iterations completed: max[abs(err)] = 128.043 | max[abs(de)] = 7822.413\n",
      "195 iterations completed: max[abs(err)] = 99.847 | max[abs(de)] = 702.276\n",
      "210 iterations completed: max[abs(err)] = 1266.065 | max[abs(de)] = 265.9\n",
      "The model is unlikely to converge any better ;(\n",
      "ATLAS-9 halted\n",
      "ATLAS requested/received validation for /home/roman/ATLAS_cool successful\n",
      "\n",
      "Final convergence: max[abs(err)] = 1266.065 | max[abs(de)] = 265.9\n",
      "Failed to converge\n",
      "Saved the model in model.dat\n",
      "Finished running ATLAS-9 in 0:17:29.481646 s\n"
     ]
    }
   ],
   "source": [
    "run_dir = os.path.expanduser('~/ATLAS_cool')\n",
    "\n",
    "settings = atlas.Settings()\n",
    "settings.teff = 3800\n",
    "settings.logg = 6.0\n",
    "\n",
    "# \"auto\" used by default, no need to explicitly specify it as was done in previous cells\n",
    "atlas.atlas(run_dir, settings = settings)"
   ]
  },
  {
   "cell_type": "markdown",
   "metadata": {},
   "source": [
    "On my setup, the model above takes some $15$ minutes before `BasicATLAS` decides that the established convergence criteria are not attainable and gives up. One may also notice that the flux errors appear to increase with iterations which implies that the temperature correction scheme is unable to determine which way the temperature profile needs to be adjusted in order to satisfy energy equilibrium better. This behavior is not at all surprising due to the non-linearities in the structure equations introduced by low-temperature physics that leave the temperature correction routine unable to \"see\" the parameter space clearly enough. The further away the temperature profile got from the correct solution, the harder it was for `ATLAS` to improve it resulting in making even more of a mess with flux errors reaching hundreds of thousands of percent (!). The final temperature profile found by `ATLAS`, in fact, appears to be worse than the initial guess!\n",
    "\n",
    "As mentioned in the introduction, we can help `ATLAS` by reducing the gap between the target and restart parameters to suppress non-linear effects. For example, we can try to calculate a slightly warmer model first and then use it as a restart for the desired model."
   ]
  },
  {
   "cell_type": "code",
   "execution_count": 22,
   "metadata": {
    "ExecuteTime": {
     "end_time": "2021-07-28T09:52:09.998335Z",
     "start_time": "2021-07-28T09:52:09.869760Z"
    },
    "collapsed": true
   },
   "outputs": [],
   "source": [
    "rm -rf ~/ATLAS_intermediate"
   ]
  },
  {
   "cell_type": "code",
   "execution_count": 23,
   "metadata": {
    "ExecuteTime": {
     "end_time": "2021-07-28T10:04:42.236524Z",
     "start_time": "2021-07-28T09:52:17.500293Z"
    }
   },
   "outputs": [
    {
     "name": "stdout",
     "output_type": "stream",
     "text": [
      "Automatically chosen restart: /home/roman/CoolStar/BasicATLAS/restarts/m0t4000g6.0.dat\n",
      "Launcher created\n",
      "Starting automatic iterations...\n",
      "15 iterations completed: max[abs(err)] = 4.842 | max[abs(de)] = 34.753\n",
      "30 iterations completed: max[abs(err)] = 2.513 | max[abs(de)] = 2.824\n",
      "45 iterations completed: max[abs(err)] = 1.909 | max[abs(de)] = 2.718\n",
      "60 iterations completed: max[abs(err)] = 1.595 | max[abs(de)] = 3.366\n",
      "75 iterations completed: max[abs(err)] = 1.363 | max[abs(de)] = 4.501\n",
      "90 iterations completed: max[abs(err)] = 1.275 | max[abs(de)] = 4.526\n",
      "105 iterations completed: max[abs(err)] = 1.131 | max[abs(de)] = 3.456\n",
      "120 iterations completed: max[abs(err)] = 1.151 | max[abs(de)] = 3.163\n",
      "135 iterations completed: max[abs(err)] = 1.186 | max[abs(de)] = 4.617\n",
      "150 iterations completed: max[abs(err)] = 0.983 | max[abs(de)] = 6.19\n",
      "ATLAS-9 halted\n",
      "ATLAS requested/received validation for /home/roman/ATLAS_intermediate successful\n",
      "\n",
      "Final convergence: max[abs(err)] = 0.983 | max[abs(de)] = 6.19\n",
      "Saved the model in model.dat\n",
      "Finished running ATLAS-9 in 0:12:24.724702 s\n"
     ]
    }
   ],
   "source": [
    "run_dir = os.path.expanduser('~/ATLAS_intermediate')\n",
    "\n",
    "# Attempting to calculate a warmer model at 3900 K - the half-way point between the nearest available\n",
    "# restart in the library at 4000 K and the desired model at 3800 K\n",
    "settings = atlas.Settings()\n",
    "settings.teff = 3900\n",
    "settings.logg = 6.0\n",
    "\n",
    "# \"auto\" used by default\n",
    "atlas.atlas(run_dir, settings = settings)"
   ]
  },
  {
   "cell_type": "markdown",
   "metadata": {},
   "source": [
    "While still struggling with a noticeably harder computation that the solar model, `ATLAS` eventually finds a convergent solution with satisfactory flux errors. We will now attempt to recalculate the original target model, `~/ATLAS_cool`, using the model above as the restart file instead of allowing `BasicATLAS` to choose one from its library (alternatively, we can also add the intermediate model to the library):"
   ]
  },
  {
   "cell_type": "code",
   "execution_count": 24,
   "metadata": {
    "ExecuteTime": {
     "end_time": "2021-07-28T10:05:08.351416Z",
     "start_time": "2021-07-28T10:05:08.234981Z"
    },
    "collapsed": true
   },
   "outputs": [],
   "source": [
    "rm -rf ~/ATLAS_cool_from_intermediate"
   ]
  },
  {
   "cell_type": "code",
   "execution_count": 25,
   "metadata": {
    "ExecuteTime": {
     "end_time": "2021-07-28T10:23:32.633067Z",
     "start_time": "2021-07-28T10:05:12.689319Z"
    }
   },
   "outputs": [
    {
     "name": "stdout",
     "output_type": "stream",
     "text": [
      "Launcher created\n",
      "Starting automatic iterations...\n",
      "15 iterations completed: max[abs(err)] = 3.551 | max[abs(de)] = 13.339\n",
      "30 iterations completed: max[abs(err)] = 2.267 | max[abs(de)] = 6.743\n",
      "45 iterations completed: max[abs(err)] = 1.924 | max[abs(de)] = 6.571\n",
      "60 iterations completed: max[abs(err)] = 1.536 | max[abs(de)] = 5.675\n",
      "75 iterations completed: max[abs(err)] = 1.338 | max[abs(de)] = 4.617\n",
      "90 iterations completed: max[abs(err)] = 1.137 | max[abs(de)] = 3.84\n",
      "105 iterations completed: max[abs(err)] = 1.001 | max[abs(de)] = 3.188\n",
      "120 iterations completed: max[abs(err)] = 1.075 | max[abs(de)] = 3.054\n",
      "135 iterations completed: max[abs(err)] = 1.115 | max[abs(de)] = 2.948\n",
      "150 iterations completed: max[abs(err)] = 0.927 | max[abs(de)] = 3.238\n",
      "ATLAS-9 halted\n",
      "ATLAS requested/received validation for /home/roman/ATLAS_cool_from_intermediate successful\n",
      "\n",
      "Final convergence: max[abs(err)] = 0.927 | max[abs(de)] = 3.238\n",
      "Saved the model in model.dat\n",
      "Finished running ATLAS-9 in 0:18:19.923978 s\n"
     ]
    }
   ],
   "source": [
    "run_dir = os.path.expanduser('~/ATLAS_cool_from_intermediate')\n",
    "restart_dir = os.path.expanduser('~/ATLAS_intermediate')\n",
    "\n",
    "settings = atlas.Settings()\n",
    "settings.teff = 3800\n",
    "settings.logg = 6.0\n",
    "\n",
    "# \"auto\" used by default\n",
    "atlas.atlas(run_dir, settings = settings, restart = restart_dir)"
   ]
  },
  {
   "cell_type": "markdown",
   "metadata": {},
   "source": [
    "By taking a smaller step in $T_\\mathrm{eff}$, the same $3800\\ \\mathrm{K}$ model was able to converge successfully. To illustrate how incorrect our original take on the $3800\\ \\mathrm{K}$ model was, both attempts are plotted below on the same set of axes:"
   ]
  },
  {
   "cell_type": "code",
   "execution_count": 27,
   "metadata": {
    "ExecuteTime": {
     "end_time": "2021-07-28T10:25:55.230083Z",
     "start_time": "2021-07-28T10:25:54.443583Z"
    }
   },
   "outputs": [
    {
     "data": {
      "image/png": "[encoded data removed]",
      "text/plain": [
       "<Figure size 432x288 with 1 Axes>"
      ]
     },
     "metadata": {},
     "output_type": "display_data"
    }
   ],
   "source": [
    "# Load structures from both attempts\n",
    "structure_1, units_1 = atlas.read_structure(os.path.expanduser('~/ATLAS_cool'))\n",
    "structure_2, units_2 = atlas.read_structure(os.path.expanduser('~/ATLAS_cool_from_intermediate'))\n",
    "\n",
    "# Plot both profiles (temperature vs optical depth)\n",
    "plt.plot(structure_1['rosseland_optical_depth'], structure_1['temperature'], label = 'Original attempt')\n",
    "plt.plot(structure_2['rosseland_optical_depth'], structure_2['temperature'], label = 'Second attempt')\n",
    "\n",
    "# Legend and labels\n",
    "plt.xlabel('Optical depth')\n",
    "plt.ylabel('Temperature [{}]'.format(units_1['temperature']))\n",
    "plt.legend()\n",
    "plt.xscale('log')"
   ]
  }
 ],
 "metadata": {
  "kernelspec": {
   "display_name": "Python 3",
   "language": "python",
   "name": "python3"
  },
  "language_info": {
   "codemirror_mode": {
    "name": "ipython",
    "version": 3
   },
   "file_extension": ".py",
   "mimetype": "text/x-python",
   "name": "python",
   "nbconvert_exporter": "python",
   "pygments_lexer": "ipython3",
   "version": "3.6.3"
  }
 },
 "nbformat": 4,
 "nbformat_minor": 2
}
