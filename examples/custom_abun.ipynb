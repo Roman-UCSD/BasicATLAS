{
 "cells": [
  {
   "cell_type": "code",
   "execution_count": 2,
   "metadata": {
    "ExecuteTime": {
     "end_time": "2021-07-28T10:10:54.458520Z",
     "start_time": "2021-07-28T10:10:54.452611Z"
    }
   },
   "outputs": [],
   "source": [
    "import sys\n",
    "sys.path.append('../')\n",
    "import atlas\n",
    "\n",
    "import os\n",
    "import matplotlib.pyplot as plt\n",
    "import numpy as np\n",
    "\n",
    "%matplotlib inline"
   ]
  },
  {
   "cell_type": "markdown",
   "metadata": {},
   "source": [
    "# Custom chemical abundances\n",
    "\n",
    "In this example, a synthetic spectrum is calculated for a star with the following **non-solar** parameters:\n",
    "\n",
    "<table>\n",
    "  <tr><td>Effective temperature, $T_\\mathrm{eff}$</td><td>$6000\\ \\mathrm{K}$</td></tr>\n",
    "  <tr><td>Surface gravity, $\\log(g)$</td><td>$6.0$</td></tr>\n",
    "  <tr><td>Helium mass fraction, $Y$</td><td>$0.4$</td></tr>\n",
    "  <tr><td>Metallicity, $[\\mathrm{M}/\\mathrm{H}]$</td><td>$-1.4$ dex</td></tr>\n",
    "  <tr><td>Lithium abundance, $[\\mathrm{Li}/\\mathrm{M}]$</td><td>$-3.0$ dex</td></tr>\n",
    "  <tr><td>Carbon abundance, $[\\mathrm{C}/\\mathrm{M}]$</td><td>$-0.65$ dex</td></tr>\n",
    "  <tr><td>Nitrogen abundance, $[\\mathrm{N}/\\mathrm{M}]$</td><td>$1.45$ dex</td></tr>\n",
    "  <tr><td>Alpha enhancement, $[\\alpha/\\mathrm{M}]$</td><td>$0.6$ dex</td></tr>\n",
    "</table>\n",
    "\n",
    "Here alpha elements are oxygen, neon, magnesium, silicon, sulfur, argon, calcium and titanium. All abundances (with the exception of helium mass fraction) are given with respect to the [standard solar values](https://atmos.ucsd.edu/?p=solar).\n",
    "\n",
    "In `BasicATLAS`, stellar parameters are provided through the `Settings()` class. First, create an instance of this class:"
   ]
  },
  {
   "cell_type": "code",
   "execution_count": 3,
   "metadata": {
    "ExecuteTime": {
     "end_time": "2021-07-28T10:10:54.606335Z",
     "start_time": "2021-07-28T10:10:54.460030Z"
    },
    "collapsed": true
   },
   "outputs": [],
   "source": [
    "settings = atlas.Settings()"
   ]
  },
  {
   "cell_type": "markdown",
   "metadata": {},
   "source": [
    "By default, the object will contain solar parameters. For instance, print the currently set effective temperature and surface gravity:"
   ]
  },
  {
   "cell_type": "code",
   "execution_count": 4,
   "metadata": {
    "ExecuteTime": {
     "end_time": "2021-07-28T10:10:54.780188Z",
     "start_time": "2021-07-28T10:10:54.608129Z"
    }
   },
   "outputs": [
    {
     "name": "stdout",
     "output_type": "stream",
     "text": [
      "Teff: 5770.0 K\n",
      "log(g): 4.44\n"
     ]
    }
   ],
   "source": [
    "print('Teff: {} K'.format(settings.teff))\n",
    "print('log(g): {}'.format(settings.logg))"
   ]
  },
  {
   "cell_type": "markdown",
   "metadata": {},
   "source": [
    "We can also display the assumed standard solar abundances as follows:"
   ]
  },
  {
   "cell_type": "code",
   "execution_count": 5,
   "metadata": {
    "ExecuteTime": {
     "end_time": "2021-07-28T10:10:54.976645Z",
     "start_time": "2021-07-28T10:10:54.782085Z"
    }
   },
   "outputs": [
    {
     "name": "stdout",
     "output_type": "stream",
     "text": [
      "OrderedDict([('H', 12.0), ('He', 10.98), ('Li', 3.26), ('Be', 1.38), ('B', 2.79), ('C', 8.5), ('N', 7.86), ('O', 8.76), ('F', 4.56), ('Ne', 8.02), ('Na', 6.24), ('Mg', 7.6), ('Al', 6.45), ('Si', 7.51), ('P', 5.46), ('S', 7.16), ('Cl', 5.5), ('Ar', 6.4), ('K', 5.11), ('Ca', 6.34), ('Sc', 3.15), ('Ti', 4.95), ('V', 3.93), ('Cr', 5.64), ('Mn', 5.43), ('Fe', 7.52), ('Co', 4.99), ('Ni', 6.22), ('Cu', 4.19), ('Zn', 4.56), ('Ga', 3.04), ('Ge', 3.65), ('As', 2.3), ('Se', 3.34), ('Br', 2.54), ('Kr', 3.25), ('Rb', 2.36), ('Sr', 2.87), ('Y', 2.21), ('Zr', 2.62), ('Nb', 1.46), ('Mo', 1.88), ('Tc', -99.99), ('Ru', 1.75), ('Rh', 1.06), ('Pd', 1.65), ('Ag', 1.2), ('Cd', 1.71), ('In', 0.76), ('Sn', 2.04), ('Sb', 1.01), ('Te', 2.18), ('I', 1.55), ('Xe', 2.24), ('Cs', 1.08), ('Ba', 2.18), ('La', 1.1), ('Ce', 1.58), ('Pr', 0.72), ('Nd', 1.42), ('Pm', -99.99), ('Sm', 0.96), ('Eu', 0.52), ('Gd', 1.07), ('Tb', 0.3), ('Dy', 1.1), ('Ho', 0.48), ('Er', 0.92), ('Tm', 0.1), ('Yb', 0.92), ('Lu', 0.1), ('Hf', 0.87), ('Ta', -0.12), ('W', 0.65), ('Re', 0.26), ('Os', 1.36), ('Ir', 1.38), ('Pt', 1.62), ('Au', 0.8), ('Hg', 1.17), ('Tl', 0.77), ('Pb', 2.04), ('Bi', 0.65), ('Po', -99.99), ('At', -99.99), ('Rn', -99.99), ('Fr', -99.99), ('Ra', -99.99), ('Ac', -99.99), ('Th', 0.08), ('Pa', -99.99), ('U', -0.54), ('Np', -99.99), ('Pu', -99.99), ('Am', -99.99), ('Cm', -99.99), ('Bk', -99.99), ('Cf', -99.99), ('Es', -99.99)])\n"
     ]
    }
   ],
   "source": [
    "print(settings.abun_solar())"
   ]
  },
  {
   "cell_type": "markdown",
   "metadata": {},
   "source": [
    "In the output above, all values are expressed as number densities with respect to hydrogen in dex, normalized such that the abundance of hydrogen is 12 dex. To calculate a model for non-solar parameters, the settings object needs to be altered accordingly:"
   ]
  },
  {
   "cell_type": "code",
   "execution_count": 6,
   "metadata": {
    "ExecuteTime": {
     "end_time": "2021-07-28T10:10:55.163581Z",
     "start_time": "2021-07-28T10:10:54.978860Z"
    },
    "collapsed": true
   },
   "outputs": [],
   "source": [
    "settings.teff = 6000           # Effective temperature in K\n",
    "settings.logg = 6.0            # Surface gravity as log10(CGS)\n",
    "settings.Y = 0.4               # Helium mass fraction\n",
    "settings.zscale = -1.4         # Metallicity, [M/H]\n",
    "\n",
    "# Enhancements of individual chemical elements with respect to standard solar\n",
    "# Only specify non-solar values (no need to input zeroes)\n",
    "settings.abun = {\n",
    "    'Li': -3.0,\n",
    "    'C': -0.65,\n",
    "    'N': 1.45,\n",
    "    'O': 0.6,\n",
    "    'Ne': 0.6,\n",
    "    'Mg': 0.6,\n",
    "    'Si': 0.6,\n",
    "    'S': 0.6,\n",
    "    'Ar': 0.6,\n",
    "    'Ca': 0.6,\n",
    "    'Ti': 0.6,\n",
    "}"
   ]
  },
  {
   "cell_type": "markdown",
   "metadata": {},
   "source": [
    "<div class=\"alert alert-block alert-info\">\n",
    "    <b>Note:</b> The default value of the <code>Y</code> attribute of the <code>Settings()</code> object is $-0.1$ which is a special value that is automatically replaced with the standard solar helium abundance. Note however that the solar helium abundance is recorded in <code>BasicATLAS</code> as the number density with respect to hydrogen rather than the helium mass fraction $Y$. As such, the actual value of $Y$ used in models for <code>Y==-0.1</code> will depend on the abundances of metals. On the other hand, the value of $Y$ will remain fixed regardless of metal abundances if it is specified explicitly in the <code>Settings()</code> object by setting <code>Y</code> to anything other than $-0.1$ as in the cell above.\n",
    "    <br><br>\n",
    "    At any time, the currently employed mass fractions of hydrogen ($X$), helium ($Y$) and metals ($Z$) can be retrieved from a <code>Settings()</code> object with the <code>mass_fractions()</code> method.\n",
    "</div>"
   ]
  },
  {
   "cell_type": "markdown",
   "metadata": {},
   "source": [
    "## Opacity Distribution Functions"
   ]
  },
  {
   "cell_type": "markdown",
   "metadata": {},
   "source": [
    "`ATLAS-9` demonstrates extremely fast performance by the virtue of retrieving opacity from pre-tabulated *opacity distribution functions* (ODFs) for all temperatures and pressures at given chemical abundances. For a new set of elemental abundances, a set of ODFs must be calculated first, which may be accomplished with the satellite utility `DFSYNTHE`. The calculation may take considerable time, but fortunately only needs to be ran once for every chemical composition. A set of solar ODFs is already available in `BasicATLAS` by default in `data/solar_ODF`, which is employed in `BasicATLAS` by default. In our case, however, a new `DFSYNTHE` calculation is required.\n",
    "\n",
    "We will store the ODFs in `~/DFSYNTHE_ODF`. Make sure the directory does not already exist and if it does, remove it:"
   ]
  },
  {
   "cell_type": "code",
   "execution_count": 7,
   "metadata": {
    "ExecuteTime": {
     "end_time": "2021-07-28T10:10:55.427231Z",
     "start_time": "2021-07-28T10:10:55.165390Z"
    },
    "collapsed": true
   },
   "outputs": [],
   "source": [
    "rm -rf ~/DFSYNTHE_ODF"
   ]
  },
  {
   "cell_type": "markdown",
   "metadata": {},
   "source": [
    "Run `DFSYNTHE` with `atlas.dfsynthe()`:\n",
    "\n",
    "***The calculation below may take multiple hours***.\n",
    "ODFs will be tabulated at 57 temperatures from low to high. Low temperature calculations take significantly more time than high temperature counterparts."
   ]
  },
  {
   "cell_type": "code",
   "execution_count": 8,
   "metadata": {
    "ExecuteTime": {
     "end_time": "2021-07-28T12:45:17.768106Z",
     "start_time": "2021-07-28T10:10:55.429894Z"
    }
   },
   "outputs": [
    {
     "name": "stdout",
     "output_type": "stream",
     "text": [
      "Will run XNFDF to tabulate atomic and molecular number densities\n",
      "Launcher created for 57 temperatures from 1995.0 K to 199526.0 K\n",
      "/home/roman/DFSYNTHE_ODF/xnfpdf.dat\n",
      "XNFDF halted\n",
      "Will run DFSYNTHE to tabulate the ODFs (Opacity Distribution Functions)\n",
      "1995.0 K done! (1/57)\n",
      "2089.0 K done! (2/57)\n",
      "2188.0 K done! (3/57)\n",
      "2291.0 K done! (4/57)\n",
      "2399.0 K done! (5/57)\n",
      "2512.0 K done! (6/57)\n",
      "2630.0 K done! (7/57)\n",
      "2754.0 K done! (8/57)\n",
      "2884.0 K done! (9/57)\n",
      "3020.0 K done! (10/57)\n",
      "3162.0 K done! (11/57)\n",
      "3311.0 K done! (12/57)\n",
      "3467.0 K done! (13/57)\n",
      "3631.0 K done! (14/57)\n",
      "3802.0 K done! (15/57)\n",
      "3981.0 K done! (16/57)\n",
      "4169.0 K done! (17/57)\n",
      "4365.0 K done! (18/57)\n",
      "4571.0 K done! (19/57)\n",
      "4786.0 K done! (20/57)\n",
      "5012.0 K done! (21/57)\n",
      "5370.0 K done! (22/57)\n",
      "5754.0 K done! (23/57)\n",
      "6166.0 K done! (24/57)\n",
      "6607.0 K done! (25/57)\n",
      "7079.0 K done! (26/57)\n",
      "7586.0 K done! (27/57)\n",
      "8128.0 K done! (28/57)\n",
      "8710.0 K done! (29/57)\n",
      "9333.0 K done! (30/57)\n",
      "10000.0 K done! (31/57)\n",
      "11220.0 K done! (32/57)\n",
      "12589.0 K done! (33/57)\n",
      "14125.0 K done! (34/57)\n",
      "15849.0 K done! (35/57)\n",
      "17783.0 K done! (36/57)\n",
      "19953.0 K done! (37/57)\n",
      "22387.0 K done! (38/57)\n",
      "25119.0 K done! (39/57)\n",
      "28184.0 K done! (40/57)\n",
      "31623.0 K done! (41/57)\n",
      "35481.0 K done! (42/57)\n",
      "39811.0 K done! (43/57)\n",
      "44668.0 K done! (44/57)\n",
      "50119.0 K done! (45/57)\n",
      "56234.0 K done! (46/57)\n",
      "63096.0 K done! (47/57)\n",
      "70795.0 K done! (48/57)\n",
      "79433.0 K done! (49/57)\n",
      "89125.0 K done! (50/57)\n",
      "100000.0 K done! (51/57)\n",
      "112202.0 K done! (52/57)\n",
      "125893.0 K done! (53/57)\n",
      "141254.0 K done! (54/57)\n",
      "158489.0 K done! (55/57)\n",
      "177828.0 K done! (56/57)\n",
      "199526.0 K done! (57/57)\n",
      "Will run SEPARATEDF to merge the output in a single file for every standard turbulent velocity (0, 1, 2, 4 and 8 km/s)\n",
      "0 km/s done! (1/5)\n",
      "1 km/s done! (2/5)\n",
      "2 km/s done! (3/5)\n",
      "4 km/s done! (4/5)\n",
      "8 km/s done! (5/5)\n",
      "SEPARATEDF halted\n",
      "Finished running DFSYNTHE in 2:34:16.878260 s\n",
      "Will run KAPPA9 for every standard turbulent velocity\n",
      "0 km/s done! (1/5)\n",
      "1 km/s done! (2/5)\n",
      "2 km/s done! (3/5)\n",
      "4 km/s done! (4/5)\n",
      "8 km/s done! (5/5)\n",
      "Merged all velocities in a single table. Final output saved in kappa.ros\n",
      "DFSYNTHE requested/received validation for /home/roman/DFSYNTHE_ODF successful\n"
     ]
    }
   ],
   "source": [
    "run_dir = os.path.expanduser('~/DFSYNTHE_ODF')\n",
    "atlas.dfsynthe(run_dir, settings)"
   ]
  },
  {
   "cell_type": "markdown",
   "metadata": {},
   "source": [
    "`atlas.meta()` can be used to inspect the abundances of a set of ODFs verify that the new set has parameters appropriate for our target model:"
   ]
  },
  {
   "cell_type": "code",
   "execution_count": 9,
   "metadata": {
    "ExecuteTime": {
     "end_time": "2021-07-28T12:45:17.868641Z",
     "start_time": "2021-07-28T12:45:17.770842Z"
    }
   },
   "outputs": [
    {
     "data": {
      "text/plain": [
       "{'Y': 0.4000050188874604,\n",
       " 'abun': OrderedDict([('Li', -3.0),\n",
       "              ('C', -0.65),\n",
       "              ('N', 1.45),\n",
       "              ('O', 0.6),\n",
       "              ('Ne', 0.6),\n",
       "              ('Mg', 0.6),\n",
       "              ('Si', 0.6),\n",
       "              ('S', 0.6),\n",
       "              ('Ar', 0.6),\n",
       "              ('Ca', 0.6),\n",
       "              ('Ti', 0.6)]),\n",
       " 'type': 'DFSYNTHE',\n",
       " 'zscale': -1.400007822415902}"
      ]
     },
     "execution_count": 9,
     "metadata": {},
     "output_type": "execute_result"
    }
   ],
   "source": [
    "atlas.meta(run_dir)"
   ]
  },
  {
   "cell_type": "markdown",
   "metadata": {},
   "source": [
    "Note that `BasicATLAS` will check that the provided set of ODFs is appropriate for target parameters automatically whenever `ATLAS` is ran."
   ]
  },
  {
   "cell_type": "markdown",
   "metadata": {},
   "source": [
    "## Model\n",
    "\n",
    "The model can then be calculated as usual except the new set of ODFs is passed to `atlas.atlas()` as an argument. We will carry out the model calculation in `~/ATLAS_LMHA_test`. Make sure the directory does not already exist:"
   ]
  },
  {
   "cell_type": "code",
   "execution_count": 10,
   "metadata": {
    "ExecuteTime": {
     "end_time": "2021-07-28T12:45:17.990927Z",
     "start_time": "2021-07-28T12:45:17.870044Z"
    },
    "collapsed": true
   },
   "outputs": [],
   "source": [
    "rm -rf ~/ATLAS_LMHA_test"
   ]
  },
  {
   "cell_type": "markdown",
   "metadata": {},
   "source": [
    "Run `ATLAS` with the new set of ODFs:"
   ]
  },
  {
   "cell_type": "code",
   "execution_count": 11,
   "metadata": {
    "ExecuteTime": {
     "end_time": "2021-07-28T12:45:57.411520Z",
     "start_time": "2021-07-28T12:45:17.998384Z"
    }
   },
   "outputs": [
    {
     "name": "stdout",
     "output_type": "stream",
     "text": [
      "Automatically chosen restart: /home/roman/CoolStar/BasicATLAS/restarts/mm1t6000g6.0.dat\n",
      "Launcher created\n",
      "Starting automatic iterations...\n",
      "15 iterations completed: max[abs(err)] = 0.254 | max[abs(de)] = 2.595\n",
      "ATLAS-9 halted\n",
      "ATLAS requested/received validation for /home/roman/ATLAS_LMHA_test successful\n",
      "\n",
      "Final convergence: max[abs(err)] = 0.254 | max[abs(de)] = 2.595\n",
      "Saved the model in model.dat\n",
      "Finished running ATLAS-9 in 0:00:39.397360 s\n"
     ]
    }
   ],
   "source": [
    "model_dir = os.path.expanduser('~/ATLAS_LMHA_test')\n",
    "atlas.atlas(model_dir, settings, ODF = run_dir)   # ODFs are provided in the \"ODF\" parameter\n",
    "                                                  # Note also that we are using the settings object\n",
    "                                                  # created before"
   ]
  },
  {
   "cell_type": "markdown",
   "metadata": {},
   "source": [
    "The function `atlas.meta()` can be used to retrieve the parameters of a calculated model. Let us double check that the newly calculated model has the expected abundances:"
   ]
  },
  {
   "cell_type": "code",
   "execution_count": 12,
   "metadata": {
    "ExecuteTime": {
     "end_time": "2021-07-28T12:45:57.434040Z",
     "start_time": "2021-07-28T12:45:57.413402Z"
    }
   },
   "outputs": [
    {
     "data": {
      "text/plain": [
       "{'Y': 0.4000050188874604,\n",
       " 'abun': OrderedDict([('Li', -3.0),\n",
       "              ('C', -0.65),\n",
       "              ('N', 1.45),\n",
       "              ('O', 0.6),\n",
       "              ('Ne', 0.6),\n",
       "              ('Mg', 0.6),\n",
       "              ('Si', 0.6),\n",
       "              ('S', 0.6),\n",
       "              ('Ar', 0.6),\n",
       "              ('Ca', 0.6),\n",
       "              ('Ti', 0.6)]),\n",
       " 'logg': 6.0,\n",
       " 'teff': 6000.0,\n",
       " 'type': 'ATLAS',\n",
       " 'vturb': 2.0,\n",
       " 'zscale': -1.400007822415902}"
      ]
     },
     "execution_count": 12,
     "metadata": {},
     "output_type": "execute_result"
    }
   ],
   "source": [
    "atlas.meta(model_dir)"
   ]
  },
  {
   "cell_type": "markdown",
   "metadata": {},
   "source": [
    "Finally calculate the synthetic spectrum using `SYNTHE`:"
   ]
  },
  {
   "cell_type": "code",
   "execution_count": 13,
   "metadata": {
    "ExecuteTime": {
     "end_time": "2021-07-28T13:23:57.700847Z",
     "start_time": "2021-07-28T12:45:57.435326Z"
    }
   },
   "outputs": [
    {
     "name": "stdout",
     "output_type": "stream",
     "text": [
      "Adapted the ATLAS-9 model to SYNTHE in output_synthe.out\n",
      "Launcher created for wavelength range (100, 2850), batch 1. Expected number of points: 2009944 (buffer 2010001)\n",
      "SYNTHE halted\n",
      "ATLAS requested/received validation for /home/roman/ATLAS_LMHA_test successful\n",
      "SYNTHE requested/received validation for /home/roman/ATLAS_LMHA_test successful\n",
      "Launcher created for wavelength range (2850, 3000), batch 2. Expected number of points: 30776 (buffer 2010001)\n",
      "SYNTHE halted\n",
      "ATLAS requested/received validation for /home/roman/ATLAS_LMHA_test successful\n",
      "SYNTHE requested/received validation for /home/roman/ATLAS_LMHA_test successful\n",
      "Total data points: 2040720\n",
      "Saved the spectrum in spectrum.dat\n",
      "Finished running SYNTHE in 0:38:00.132154 s\n"
     ]
    }
   ],
   "source": [
    "atlas.synthe(model_dir, 100, 3000)"
   ]
  },
  {
   "cell_type": "markdown",
   "metadata": {},
   "source": [
    "Plot synthetic spectrum:"
   ]
  },
  {
   "cell_type": "code",
   "execution_count": 14,
   "metadata": {
    "ExecuteTime": {
     "end_time": "2021-07-28T13:24:17.484029Z",
     "start_time": "2021-07-28T13:23:57.702734Z"
    }
   },
   "outputs": [
    {
     "data": {
      "text/plain": [
       "Text(0, 0.5, 'Intensity [erg s$^{-1}$ cm$^{-2}$ A$^{-1}$ strad$^{-1}$]')"
      ]
     },
     "execution_count": 14,
     "metadata": {},
     "output_type": "execute_result"
    },
    {
     "data": {
      "image/png": "[encoded data removed]",
      "text/plain": [
       "<Figure size 432x288 with 1 Axes>"
      ]
     },
     "metadata": {},
     "output_type": "display_data"
    }
   ],
   "source": [
    "spectrum = atlas.read_spectrum(model_dir, num_bins = 1000)\n",
    "plt.plot(spectrum['wl'], spectrum['flux'])\n",
    "\n",
    "plt.xlabel('Wavelength [A]')\n",
    "plt.ylabel('Intensity [erg s$^{-1}$ cm$^{-2}$ A$^{-1}$ strad$^{-1}$]')"
   ]
  }
 ],
 "metadata": {
  "kernelspec": {
   "display_name": "Python 3",
   "language": "python",
   "name": "python3"
  },
  "language_info": {
   "codemirror_mode": {
    "name": "ipython",
    "version": 3
   },
   "file_extension": ".py",
   "mimetype": "text/x-python",
   "name": "python",
   "nbconvert_exporter": "python",
   "pygments_lexer": "ipython3",
   "version": "3.6.3"
  }
 },
 "nbformat": 4,
 "nbformat_minor": 2
}
